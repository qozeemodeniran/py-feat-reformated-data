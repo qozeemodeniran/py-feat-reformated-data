{
 "cells": [
  {
   "cell_type": "code",
   "execution_count": null,
   "metadata": {},
   "outputs": [],
   "source": [
    "from feat import Detector\n",
    "from feat.utils.io import get_test_data_path\n",
    "import os\n",
    "\n",
    "detector = Detector()\n",
    "test_data_dir = get_test_data_path()\n",
    "test_video_path = os.path.join(test_data_dir, \"Liz_legit.mp4\") \n",
    "video_prediction = detector.detect_video(\"C:/Users/Public/Desktop/feat/F5_Liz/Liz_legit.mp4\", skip_frames=10)\n",
    "video_prediction.head()\n",
    "\n",
    "video_prediction.shape\n",
    "\n",
    "video_prediction.loc[0:2].plot_detections(faceboxes=False, add_titles=False)\n",
    "\n",
    "axes = video_prediction.emotions.plot()\n",
    "\n",
    "video_prediction.to_csv(\"C:/Users/Public/Desktop/feat/F5_Liz/Liz_legit.csv\")"
   ]
  },
  {
   "cell_type": "code",
   "execution_count": null,
   "metadata": {},
   "outputs": [],
   "source": [
    "from feat import Detector\n",
    "from feat.utils.io import get_test_data_path\n",
    "import os\n",
    "\n",
    "detector = Detector()\n",
    "test_data_dir = get_test_data_path()\n",
    "test_video_path = os.path.join(test_data_dir, \"Liz_phish.mp4\") \n",
    "video_prediction = detector.detect_video(\"C:/Users/Public/Desktop/feat/F5_Liz/Liz_phish.mp4\", skip_frames=10)\n",
    "video_prediction.head()\n",
    "\n",
    "video_prediction.shape\n",
    "\n",
    "video_prediction.loc[0:2].plot_detections(faceboxes=False, add_titles=False)\n",
    "\n",
    "axes = video_prediction.emotions.plot()\n",
    "\n",
    "video_prediction.to_csv(\"C:/Users/Public/Desktop/feat/F5_Liz/Liz_phish.csv\")"
   ]
  },
  {
   "cell_type": "code",
   "execution_count": null,
   "metadata": {},
   "outputs": [],
   "source": [
    "from feat import Detector\n",
    "from feat.utils.io import get_test_data_path\n",
    "import os\n",
    "\n",
    "detector = Detector()\n",
    "test_data_dir = get_test_data_path()\n",
    "test_video_path = os.path.join(test_data_dir, \"Liz_spam.mp4\") \n",
    "video_prediction = detector.detect_video(\"C:/Users/Public/Desktop/feat/F5_Liz/Liz_spam.mp4\", skip_frames=10)\n",
    "video_prediction.head()\n",
    "\n",
    "video_prediction.shape\n",
    "\n",
    "video_prediction.loc[0:2].plot_detections(faceboxes=False, add_titles=False)\n",
    "\n",
    "axes = video_prediction.emotions.plot()\n",
    "\n",
    "video_prediction.to_csv(\"C:/Users/Public/Desktop/feat/F5_Liz/Liz_spam.csv\")"
   ]
  }
 ],
 "metadata": {
  "kernelspec": {
   "display_name": "Python 3",
   "language": "python",
   "name": "python3"
  },
  "language_info": {
   "codemirror_mode": {
    "name": "ipython",
    "version": 3
   },
   "file_extension": ".py",
   "mimetype": "text/x-python",
   "name": "python",
   "nbconvert_exporter": "python",
   "pygments_lexer": "ipython3",
   "version": "3.9.13"
  },
  "orig_nbformat": 4,
  "vscode": {
   "interpreter": {
    "hash": "56495139ab7e297c4f15f63494e109e2ff30c55fc86ffc9272c94825cc7c0dba"
   }
  }
 },
 "nbformat": 4,
 "nbformat_minor": 2
}
