{
 "cells": [
  {
   "cell_type": "code",
   "execution_count": 2,
   "metadata": {},
   "outputs": [
    {
     "name": "stdout",
     "output_type": "stream",
     "text": [
      "Excel file 'results/surprise-emotion.xlsx' created successfully!\n"
     ]
    }
   ],
   "source": [
    "import pandas as pd\n",
    "import os\n",
    "\n",
    "# Define the directory paths containing the CSV files\n",
    "directory_paths = [\n",
    "    \"/Users/qozeemodeniran/Library/CloudStorage/GoogleDrive-qo00109@georgiasouthern.edu/.shortcut-targets-by-id/1kRnniww0E8Wk3_2jaztlV5tU1dWK_VpQ/Qozeem/py-feat reformatted data/Reformatted_PyFeat_Data/LPS/email_Legit\",\n",
    "    \"/Users/qozeemodeniran/Library/CloudStorage/GoogleDrive-qo00109@georgiasouthern.edu/.shortcut-targets-by-id/1kRnniww0E8Wk3_2jaztlV5tU1dWK_VpQ/Qozeem/py-feat reformatted data/Reformatted_PyFeat_Data/LPS/email_Phish\",\n",
    "    \"/Users/qozeemodeniran/Library/CloudStorage/GoogleDrive-qo00109@georgiasouthern.edu/.shortcut-targets-by-id/1kRnniww0E8Wk3_2jaztlV5tU1dWK_VpQ/Qozeem/py-feat reformatted data/Reformatted_PyFeat_Data/LPS/email_Spam\"\n",
    "    #  more directory paths can be added as needed\n",
    "]\n",
    "\n",
    "# Define the prefix of the output Excel file name\n",
    "output_file_name = \"results/surprise-emotion.xlsx\"\n",
    "\n",
    "# Initialize an Excel writer (pip install xlsxwriter)\n",
    "excel_writer = pd.ExcelWriter(output_file_name, engine='xlsxwriter')\n",
    "\n",
    "# Initialize a Pandas Excel writer\n",
    "with pd.ExcelWriter(output_file_name, engine='xlsxwriter') as excel_writer:\n",
    "    # Iterate through different directories\n",
    "    for dir_idx, directory_path in enumerate(directory_paths, start=1):\n",
    "        # List all CSV files in the directory\n",
    "        csv_files = [f for f in os.listdir(directory_path) if f.endswith(\".csv\")]\n",
    "\n",
    "        # Initialize an empty list of dictionaries for the final result\n",
    "        final_data = []\n",
    "\n",
    "        # Extract and append data from each CSV file\n",
    "        for idx, csv_file in enumerate(csv_files, start=1):\n",
    "            # Read the current CSV file into a DataFrame\n",
    "            data_df = pd.read_csv(os.path.join(directory_path, csv_file))\n",
    "\n",
    "            # Extract the 'anger' column data\n",
    "            anger_data = data_df['surprise'].values.tolist()\n",
    "\n",
    "            # Create a new row dictionary for the current participant (P2, P3, etc.)\n",
    "            row_data = {\"Participant\": f\"P{idx}\", **{f\"T{i}\": value for i, value in enumerate(anger_data, start=1)}}\n",
    "\n",
    "            # Append the new row data to the final list\n",
    "            final_data.append(row_data)\n",
    "\n",
    "        # Create a DataFrame from the list of dictionaries\n",
    "        final_df = pd.DataFrame(final_data)\n",
    "\n",
    "        # Create a new sheet in the Excel file for the current directory's data\n",
    "        sheet_name = f\"Sheet_{dir_idx}\"\n",
    "        final_df.to_excel(excel_writer, sheet_name=sheet_name, index=False)\n",
    "\n",
    "print(f\"Excel file '{output_file_name}' created successfully!\")\n"
   ]
  }
 ],
 "metadata": {
  "kernelspec": {
   "display_name": "Python 3",
   "language": "python",
   "name": "python3"
  },
  "language_info": {
   "codemirror_mode": {
    "name": "ipython",
    "version": 3
   },
   "file_extension": ".py",
   "mimetype": "text/x-python",
   "name": "python",
   "nbconvert_exporter": "python",
   "pygments_lexer": "ipython3",
   "version": "3.9.16"
  }
 },
 "nbformat": 4,
 "nbformat_minor": 2
}
